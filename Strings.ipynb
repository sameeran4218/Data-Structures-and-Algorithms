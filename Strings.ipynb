{
 "cells": [
  {
   "cell_type": "markdown",
   "id": "d05f9840",
   "metadata": {},
   "source": [
    "# Strings"
   ]
  },
  {
   "cell_type": "code",
   "execution_count": null,
   "id": "651d5850",
   "metadata": {},
   "outputs": [],
   "source": [
    "# Min Bracket Reversals to make the Expression Balanced\n",
    "\n",
    "from collections import deque\n",
    "def countminreversals(s):\n",
    "        st=deque([])\n",
    "        if len(s)%2!=0:\n",
    "            return -1\n",
    "        for ch in s:\n",
    "            if ch=='{':\n",
    "                st.append(ch)\n",
    "            else:\n",
    "                if st and st[-1]=='{':\n",
    "                    st.pop()\n",
    "                else:\n",
    "                    st.append(ch)\n",
    "        co,cc=0,0\n",
    "        for ch in st:\n",
    "            if ch=='{':\n",
    "                co+=1\n",
    "            else:\n",
    "                cc+=1\n",
    "        return (co+1)//2+(cc+1)//2"
   ]
  },
  {
   "cell_type": "code",
   "execution_count": null,
   "id": "32b94c92",
   "metadata": {},
   "outputs": [],
   "source": [
    "# Min Swaps to make the Brackets Balanced\n",
    "import math\n",
    "from collections import deque\n",
    "class Solution:\n",
    "    def minSwaps(self, s: str) -> int:\n",
    "        st=deque([])\n",
    "        for ch in s:\n",
    "            if ch=='[':\n",
    "                st.append(ch)\n",
    "            else:\n",
    "                if st and st[-1]=='[':\n",
    "                    st.pop()\n",
    "                else:\n",
    "                    st.append(ch)\n",
    "        # each swap balances two unbalanced pairs\n",
    "        unbalanced_pairs=len(st)//2\n",
    "        min_swaps=math.ceil(unbalanced_pairs/2) # if unbalanced pairs are odd\n",
    "        return min_swaps"
   ]
  },
  {
   "cell_type": "markdown",
   "id": "8be8ac85",
   "metadata": {},
   "source": [
    "# Hashing - Rabin Karp Algorithm"
   ]
  },
  {
   "cell_type": "code",
   "execution_count": null,
   "id": "69578a86",
   "metadata": {},
   "outputs": [],
   "source": [
    "# Polynomial Rolling Hash Function\n",
    "\n",
    "def calcHash(s):\n",
    "    p=31\n",
    "    m=1e9+9\n",
    "    p_pow=1\n",
    "    hash_value=0\n",
    "    for ch in s:\n",
    "        hash_value+=((ord(ch)-ord('a')+1)*p_pow)%m\n",
    "        p_pow=(p_pow*p)%m\n",
    "    return hash_value"
   ]
  },
  {
   "cell_type": "code",
   "execution_count": null,
   "id": "1c4ef576",
   "metadata": {},
   "outputs": [],
   "source": [
    "# Modular Inverse of p\n",
    "# As we always use p=31 or p=53, and m=10**9+7 which is prime, we can use Fermat's Little Theorem\n",
    "# and say p^-1 mod m = p^(m-2) mod m thus calculating the modular inverse of p\n",
    "# similarly modular inverse of p^i is p^(m-2)*i mod m\n",
    "def modInverse(p, m):\n",
    "    return pow(p, m-2, m)"
   ]
  },
  {
   "cell_type": "code",
   "execution_count": null,
   "id": "1c1bb1aa",
   "metadata": {},
   "outputs": [],
   "source": [
    "# Needle in Haystack - Rabin-Karp Algorithm\n",
    "# Rolling Hash Technique\n",
    "\n",
    "\n",
    "class Solution:\n",
    "    def calcHash(self, s):\n",
    "        p = 31\n",
    "        m = 10**9 + 9\n",
    "        p_pow = 1\n",
    "        hash_value = 0\n",
    "        for ch in s:\n",
    "            hash_value = (hash_value + (ord(ch) - ord('a') + 1) * p_pow) % m\n",
    "            p_pow = (p_pow * p) % m\n",
    "        return hash_value\n",
    "\n",
    "    def strStr(self, s, B):\n",
    "        if not B:\n",
    "            return 0\n",
    "        if len(B) > len(s):\n",
    "            return -1\n",
    "\n",
    "        p = 31\n",
    "        m = 10**9 + 9\n",
    "        n1 = len(s)\n",
    "        n2 = len(B)\n",
    "\n",
    "        needle_hash = self.calcHash(B)\n",
    "        curr_hash = self.calcHash(s[:n2])\n",
    "\n",
    "        highest_power = pow(p, n2-1, m)\n",
    "        inv_p = pow(p, m-2, m)\n",
    "\n",
    "        # Rolling hash for the rest of the string\n",
    "        # We can use the precomputed hash value of the first n2 characters to compute the hash for the next window in O(1)\n",
    "        for i in range(n1 - n2 + 1):\n",
    "            if curr_hash == needle_hash:\n",
    "                # confirm substrings match to avoid hash collision (optional)\n",
    "                if s[i:i+n2] == B:\n",
    "                    return i\n",
    "            if i + n2 < n1:\n",
    "                left_char = (ord(s[i]) - ord('a') + 1)\n",
    "                curr_hash = (curr_hash - left_char + m) % m\n",
    "                curr_hash = (curr_hash * inv_p) % m\n",
    "                right_char = (ord(s[i+n2]) - ord('a') + 1)\n",
    "                curr_hash = (curr_hash + right_char * highest_power) % m\n",
    "\n",
    "        return -1"
   ]
  },
  {
   "cell_type": "markdown",
   "id": "92d49d11",
   "metadata": {},
   "source": [
    "# Longest Prefix Suffix and Knuth-Morris-Pratt Algorithm"
   ]
  },
  {
   "cell_type": "code",
   "execution_count": null,
   "id": "d5333521",
   "metadata": {},
   "outputs": [],
   "source": [
    "# Longest Prefix Suffix \n",
    "\n",
    "def computeLPS(s):\n",
    "    n=len(s)\n",
    "    lps=[0]*n\n",
    "    lps[0]=0\n",
    "    pre,suf=0,1\n",
    "    while suf<n:\n",
    "        if s[pre]==s[suf]: # both match , valid prefix exists where prefix and suffix are equal\n",
    "            lps[suf]=pre+1\n",
    "            pre+=1\n",
    "            suf+=1\n",
    "        else:\n",
    "            if pre==0: # no valid prefix exists\n",
    "                lps[suf]=0\n",
    "                suf+=1\n",
    "            else:\n",
    "                pre=lps[pre-1] # backtrack to the last valid prefix\n",
    "    return lps\n",
    "\n",
    "# KMP\n",
    "def KMP(s,t): # search for occurrence of t in s\n",
    "    n=len(s)\n",
    "    m=len(t)\n",
    "    # precompute lps of the pattern\n",
    "    lps=computeLPS(t)\n",
    "    j=0\n",
    "    for i in range(n):\n",
    "        while j>0 and s[i]!=t[j]:\n",
    "            j=lps[j-1]\n",
    "        if s[i]==t[j]:\n",
    "            j+=1\n",
    "        if j==m:\n",
    "            print(\"Pattern found at index\", i-m+1)\n",
    "            return \n",
    "    print(\"Pattern not found\")\n",
    "    return\n"
   ]
  }
 ],
 "metadata": {
  "kernelspec": {
   "display_name": "Python 3",
   "language": "python",
   "name": "python3"
  },
  "language_info": {
   "codemirror_mode": {
    "name": "ipython",
    "version": 3
   },
   "file_extension": ".py",
   "mimetype": "text/x-python",
   "name": "python",
   "nbconvert_exporter": "python",
   "pygments_lexer": "ipython3",
   "version": "3.12.3"
  }
 },
 "nbformat": 4,
 "nbformat_minor": 5
}

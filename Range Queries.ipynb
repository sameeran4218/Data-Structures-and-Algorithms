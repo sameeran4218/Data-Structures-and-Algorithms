{
 "cells": [
  {
   "cell_type": "markdown",
   "id": "c528adc3",
   "metadata": {},
   "source": [
    "# Range Queries"
   ]
  },
  {
   "cell_type": "markdown",
   "id": "f7d2777b",
   "metadata": {},
   "source": [
    "## Sparse Table"
   ]
  },
  {
   "cell_type": "code",
   "execution_count": null,
   "id": "4a26a1ef",
   "metadata": {},
   "outputs": [
    {
     "name": "stdout",
     "output_type": "stream",
     "text": [
      "2\n",
      "1\n"
     ]
    }
   ],
   "source": [
    "# Sparse Tables for Range Minimum Query (RMQ)\n",
    "# Preprocessing time: O(n log n) space: O(n log n)\n",
    "# Query time: O(1)\n",
    "\n",
    "import math\n",
    "class SparseTable:\n",
    "\n",
    "    def __init__(self,arr):\n",
    "        self.n=len(arr)\n",
    "        self.sparse=[[0]*math.ceil(math.log2(self.n)) for _ in range(self.n)]\n",
    "        self.build(arr)\n",
    "    \n",
    "    def build(self,arr):\n",
    "        for i in range(self.n):\n",
    "            self.sparse[i][0]= arr[i]\n",
    "        for j in range(1,math.ceil(math.log2(self.n))):\n",
    "            for i in range(self.n-(2**j)+1):\n",
    "                self.sparse[i][j]=min(self.sparse[i][j-1],self.sparse[i+2**(j-1)][j-1])\n",
    "    def query(self,l,r):\n",
    "        length=r-l+1\n",
    "        k=int(math.log2(length))\n",
    "        mini=min(self.sparse[l][k],self.sparse[l+length-(2**k)][k])\n",
    "        return mini\n",
    "\n",
    "# Example usage\n",
    "if __name__ == \"__main__\":\n",
    "    arr = [1, 3, 2, 7, 9, 11]\n",
    "    st = SparseTable(arr)\n",
    "    print(st.query(1, 4))  # Output: 2 (minimum in range [3, 2, 7, 9])\n",
    "    print(st.query(0, 5))  # Output: 1 (minimum in range [1, 3, 2, 7, 9, 11])\n"
   ]
  },
  {
   "cell_type": "code",
   "execution_count": null,
   "id": "3fbcddba",
   "metadata": {},
   "outputs": [],
   "source": []
  }
 ],
 "metadata": {
  "kernelspec": {
   "display_name": "Python 3",
   "language": "python",
   "name": "python3"
  },
  "language_info": {
   "codemirror_mode": {
    "name": "ipython",
    "version": 3
   },
   "file_extension": ".py",
   "mimetype": "text/x-python",
   "name": "python",
   "nbconvert_exporter": "python",
   "pygments_lexer": "ipython3",
   "version": "3.12.3"
  }
 },
 "nbformat": 4,
 "nbformat_minor": 5
}

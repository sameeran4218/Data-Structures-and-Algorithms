{
 "cells": [
  {
   "cell_type": "markdown",
   "id": "6484c725",
   "metadata": {},
   "source": [
    "# Tries"
   ]
  },
  {
   "cell_type": "markdown",
   "id": "de932a59",
   "metadata": {},
   "source": [
    "## Implement Trie -> Insert | Search | Startswith"
   ]
  },
  {
   "cell_type": "code",
   "execution_count": 3,
   "id": "f4bdb5ef",
   "metadata": {},
   "outputs": [
    {
     "name": "stdout",
     "output_type": "stream",
     "text": [
      "Inserting words: Striver, Striving, String, Strike\n",
      "Search if Strawberry exists in trie: False\n",
      "Search if Strike exists in trie: True\n",
      "If words in Trie start with Stri: True\n"
     ]
    }
   ],
   "source": [
    "class TrieNode:\n",
    "    # Initializes a TrieNode with an array of 26 characters and a flag.\n",
    "    def __init__(self):\n",
    "        self.chars=[None]*26\n",
    "        self.flag=False\n",
    "    # check if the TrieNode contains the character\n",
    "    def contains(self,key):\n",
    "        return self.chars[ord(key)-ord('a')] is not None\n",
    "    # Set the character \n",
    "    def put(self,key,node):\n",
    "        self.chars[ord(key)-ord('a')]=node\n",
    "    # get existing TrieNode for the character\n",
    "    def get(self,key):\n",
    "        return self.chars[ord(key)-ord('a')]\n",
    "    # Set the flag to True signifying the end of a word\n",
    "    def setFlag(self):\n",
    "        self.flag=True\n",
    "    # check if word ends at this TrieNode\n",
    "    def isFlag(self):\n",
    "        return self.flag\n",
    "\n",
    "class Trie:\n",
    "    # Intializes the Trie with a root TrieNode.\n",
    "    def __init__(self):\n",
    "        self.root=TrieNode()\n",
    "    # Inserts a word into the Trie.\n",
    "    def insert(self,word):\n",
    "        node=self.root\n",
    "        for ch in word:\n",
    "            # for each character in the word, check if it exists in the TrieNode\n",
    "            # if not, create a new TrieNode for that character\n",
    "            if not node.contains(ch):\n",
    "                node.put(ch,TrieNode())\n",
    "            node=node.get(ch)\n",
    "        node.setFlag()\n",
    "    # Checks if a word exists in the Trie.\n",
    "    def search(self,word):\n",
    "        node=self.root\n",
    "        for ch in word:\n",
    "            if not node.contains(ch):\n",
    "                return False\n",
    "            node=node.get(ch)\n",
    "        return node.isFlag()\n",
    "    # Checks if any word in the Trie starts with the given prefix.\n",
    "    def startsWith(self,prefix):\n",
    "        node=self.root\n",
    "        for ch in prefix:\n",
    "            if not node.contains(ch):\n",
    "                return False\n",
    "            node=node.get(ch)\n",
    "        return True\n",
    "\n",
    "# Example usage:\n",
    "if __name__ == \"__main__\":\n",
    "    trie = Trie()\n",
    "    print(\"Inserting words: Striver, Striving, String, Strike\")\n",
    "    trie.insert(\"striver\")\n",
    "    trie.insert(\"striving\")\n",
    "    trie.insert(\"string\")\n",
    "    trie.insert(\"strike\")\n",
    "\n",
    "    print(\"Search if Strawberry exists in trie: \" +\n",
    "          (\"True\" if trie.search(\"strawberry\") else \"False\"))\n",
    "\n",
    "    print(\"Search if Strike exists in trie: \" +\n",
    "          (\"True\" if trie.search(\"strike\") else \"False\"))\n",
    "\n",
    "    print(\"If words in Trie start with Stri: \" +\n",
    "          (\"True\" if trie.startsWith(\"stri\") else \"False\"))"
   ]
  }
 ],
 "metadata": {
  "kernelspec": {
   "display_name": "Python 3",
   "language": "python",
   "name": "python3"
  },
  "language_info": {
   "codemirror_mode": {
    "name": "ipython",
    "version": 3
   },
   "file_extension": ".py",
   "mimetype": "text/x-python",
   "name": "python",
   "nbconvert_exporter": "python",
   "pygments_lexer": "ipython3",
   "version": "3.12.3"
  }
 },
 "nbformat": 4,
 "nbformat_minor": 5
}
